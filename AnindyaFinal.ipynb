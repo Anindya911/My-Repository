{
 "cells": [
  {
   "cell_type": "code",
   "execution_count": 22,
   "metadata": {},
   "outputs": [],
   "source": [
    "from bs4 import BeautifulSoup\n",
    "import requests\n",
    "import pandas as pd"
   ]
  },
  {
   "cell_type": "code",
   "execution_count": 23,
   "metadata": {},
   "outputs": [],
   "source": [
    "page = requests.get('https://en.wikipedia.org/wiki/List_of_postal_codes_of_Canada:_M').content\n",
    "soup = BeautifulSoup(page, 'lxml')\n",
    "tables = soup.find_all('table', class_ = 'sortable')\n",
    "column_names_list = []\n",
    "postcode_list = []\n",
    "borough_list = []\n",
    "neighborhood_list = []"
   ]
  },
  {
   "cell_type": "code",
   "execution_count": 24,
   "metadata": {},
   "outputs": [
    {
     "name": "stdout",
     "output_type": "stream",
     "text": [
      "  Postal Code           Borough                     Neighborhood\n",
      "0         M3A        North York                        Parkwoods\n",
      "1         M4A        North York                 Victoria Village\n",
      "2         M5A  Downtown Toronto         Harbourfront,Regent Park\n",
      "3         M6A        North York  Lawrence Heights,Lawrence Manor\n",
      "4         M7A      Queen's Park                     Queen's Park\n"
     ]
    }
   ],
   "source": [
    "for table in tables:\n",
    "    ths = table.find_all('th')\n",
    "    for th in ths:\n",
    "        column_names_list.append(th.text.strip())\n",
    "    \n",
    "    for tr in table.find_all('tr'):\n",
    "        tds = tr.find_all('td')\n",
    "        if not tds:\n",
    "            continue\n",
    "        \n",
    "        postcode, borough, neighborhood = [td.text.strip() for td in tds[:3]]\n",
    "        \n",
    "        if borough == 'Not assigned':\n",
    "            continue\n",
    "        \n",
    "        if neighborhood == 'Not assigned':\n",
    "            if borough:\n",
    "                neighborhood = borough\n",
    "        \n",
    "        if postcode in postcode_list:\n",
    "            neighborhood_list[postcode_list.index(postcode)] += ',' + neighborhood\n",
    "        \n",
    "        else:\n",
    "            postcode_list.append(postcode)\n",
    "            borough_list.append(borough)\n",
    "            neighborhood_list.append(neighborhood)\n",
    "            \n",
    "column_names_list[0] = 'Postal Code'\n",
    "column_names_list[2] = 'Neighborhood'\n",
    "data_tuples = list(zip(postcode_list,borough_list,neighborhood_list))\n",
    "df = pd.DataFrame(data_tuples, columns=column_names_list)\n",
    "print(df.head())"
   ]
  },
  {
   "cell_type": "code",
   "execution_count": 25,
   "metadata": {},
   "outputs": [
    {
     "name": "stdout",
     "output_type": "stream",
     "text": [
      "(103, 3)\n"
     ]
    }
   ],
   "source": [
    "print(df.shape)"
   ]
  },
  {
   "cell_type": "markdown",
   "metadata": {},
   "source": [
    "# 2nd assignment"
   ]
  },
  {
   "cell_type": "code",
   "execution_count": 26,
   "metadata": {},
   "outputs": [
    {
     "name": "stdout",
     "output_type": "stream",
     "text": [
      "(103, 3)\n"
     ]
    }
   ],
   "source": [
    "geo_data = pd.read_csv('https://cocl.us/Geospatial_data')\n",
    "print(geo_data.shape)"
   ]
  },
  {
   "cell_type": "code",
   "execution_count": 27,
   "metadata": {},
   "outputs": [
    {
     "name": "stdout",
     "output_type": "stream",
     "text": [
      "  Postal Code           Borough                     Neighborhood   Latitude  \\\n",
      "0         M3A        North York                        Parkwoods  43.753259   \n",
      "1         M4A        North York                 Victoria Village  43.725882   \n",
      "2         M5A  Downtown Toronto         Harbourfront,Regent Park  43.654260   \n",
      "3         M6A        North York  Lawrence Heights,Lawrence Manor  43.718518   \n",
      "4         M7A      Queen's Park                     Queen's Park  43.662301   \n",
      "\n",
      "   Longitude  \n",
      "0 -79.329656  \n",
      "1 -79.315572  \n",
      "2 -79.360636  \n",
      "3 -79.464763  \n",
      "4 -79.389494  \n"
     ]
    }
   ],
   "source": [
    "df2 = pd.merge(df, geo_data, how='inner', on='Postal Code')\n",
    "print(df2.head())"
   ]
  },
  {
   "cell_type": "markdown",
   "metadata": {},
   "source": [
    "# 3rd assignment"
   ]
  },
  {
   "cell_type": "code",
   "execution_count": null,
   "metadata": {},
   "outputs": [],
   "source": [
    "!conda install -c conda-forge folium=0.5.0 --yes\n",
    "import folium # map rendering library\n"
   ]
  },
  {
   "cell_type": "code",
   "execution_count": null,
   "metadata": {},
   "outputs": [],
   "source": [
    "LATITUDE = 43.653908\n",
    "LONGITUDE = -79.384293\n",
    "\n",
    "toronto_map = folium.Map(location=[LATITUDE, LONGITUDE], zoom_start=10)\n",
    "\n",
    "for latitude, longitude, borough, neighborhood in zip(df2['Latitude'], df2['Longitude'],\n",
    "                                                      df2['Borough'], df2['Neighborhood']):\n",
    "    label = '{}, {}'.format(neighborhood, borough)\n",
    "    label = folium.Popup(label, parse_html=True)\n",
    "    folium.CircleMarker(\n",
    "        [latitude, longitude],\n",
    "        popup=label,\n",
    "        radius=5,\n",
    "        color='blue',\n",
    "        fill=True,\n",
    "        fill_color='#3186cc',\n",
    "        fill_opacity=0.7\n",
    "    ).add_to(toronto_map)\n",
    "\n",
    "toronto_map"
   ]
  },
  {
   "cell_type": "code",
   "execution_count": null,
   "metadata": {},
   "outputs": [],
   "source": []
  },
  {
   "cell_type": "code",
   "execution_count": null,
   "metadata": {},
   "outputs": [],
   "source": []
  }
 ],
 "metadata": {
  "kernelspec": {
   "display_name": "Python 3",
   "language": "python",
   "name": "python3"
  },
  "language_info": {
   "codemirror_mode": {
    "name": "ipython",
    "version": 3
   },
   "file_extension": ".py",
   "mimetype": "text/x-python",
   "name": "python",
   "nbconvert_exporter": "python",
   "pygments_lexer": "ipython3",
   "version": "3.7.0"
  }
 },
 "nbformat": 4,
 "nbformat_minor": 1
}
